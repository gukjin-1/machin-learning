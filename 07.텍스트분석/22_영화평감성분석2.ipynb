{
  "nbformat": 4,
  "nbformat_minor": 0,
  "metadata": {
    "colab": {
      "name": "22_영화평감성분석2.ipynb",
      "provenance": [],
      "collapsed_sections": []
    },
    "kernelspec": {
      "name": "python3",
      "display_name": "Python 3"
    },
    "language_info": {
      "name": "python"
    }
  },
  "cells": [
    {
      "cell_type": "markdown",
      "source": [
        "# 네이버 영화평 감성분석\n",
        "- Tokenizer 함수\n",
        "- TfidfVectorizer + LogisticRegression"
      ],
      "metadata": {
        "id": "dFNlUdc4pRW-"
      }
    },
    {
      "cell_type": "code",
      "execution_count": 22,
      "metadata": {
        "id": "-ZpznuJ9pQu6"
      },
      "outputs": [],
      "source": [
        "!pip install Konlpy> /dev/null"
      ]
    },
    {
      "cell_type": "code",
      "source": [
        "import numpy as np\n",
        "import pandas as pd\n",
        "import warnings\n",
        "warnings.filterwarnings('ignore')"
      ],
      "metadata": {
        "id": "_vgRXWdIpwTb"
      },
      "execution_count": 23,
      "outputs": []
    },
    {
      "cell_type": "code",
      "source": [
        "train_df = pd.read_csv('/content/naver_movie_train_전처리완료.tsv', sep ='\\t')\n",
        "test_df = pd.read_csv('/content/naver_movie_test_전처리완료.tsv', sep ='\\t')\n",
        "train_df.shape, test_df.shape"
      ],
      "metadata": {
        "colab": {
          "base_uri": "https://localhost:8080/"
        },
        "id": "U3iZzuWfp4xl",
        "outputId": "bad86b64-4f5f-4ed7-8939-f8c376e2bccb"
      },
      "execution_count": 24,
      "outputs": [
        {
          "output_type": "execute_result",
          "data": {
            "text/plain": [
              "((145435, 3), (48860, 3))"
            ]
          },
          "metadata": {},
          "execution_count": 24
        }
      ]
    },
    {
      "cell_type": "code",
      "source": [
        "train_df.head(3)"
      ],
      "metadata": {
        "colab": {
          "base_uri": "https://localhost:8080/",
          "height": 143
        },
        "id": "hyUXJiJmuy6f",
        "outputId": "6d0d932f-deb7-41ed-8ea3-f2cefdfefd6b"
      },
      "execution_count": 25,
      "outputs": [
        {
          "output_type": "execute_result",
          "data": {
            "text/plain": [
              "         id                           document  label\n",
              "0   9976970                아 더빙   진짜 짜증나네요 목소리      0\n",
              "1   3819312  흠   포스터보고 초딩영화줄    오버연기조차 가볍지 않구나      1\n",
              "2  10265843                  너무재밓었다그래서보는것을추천한다      0"
            ],
            "text/html": [
              "\n",
              "  <div id=\"df-019ec0ed-28fe-4f77-bdc0-967ddc06ba05\">\n",
              "    <div class=\"colab-df-container\">\n",
              "      <div>\n",
              "<style scoped>\n",
              "    .dataframe tbody tr th:only-of-type {\n",
              "        vertical-align: middle;\n",
              "    }\n",
              "\n",
              "    .dataframe tbody tr th {\n",
              "        vertical-align: top;\n",
              "    }\n",
              "\n",
              "    .dataframe thead th {\n",
              "        text-align: right;\n",
              "    }\n",
              "</style>\n",
              "<table border=\"1\" class=\"dataframe\">\n",
              "  <thead>\n",
              "    <tr style=\"text-align: right;\">\n",
              "      <th></th>\n",
              "      <th>id</th>\n",
              "      <th>document</th>\n",
              "      <th>label</th>\n",
              "    </tr>\n",
              "  </thead>\n",
              "  <tbody>\n",
              "    <tr>\n",
              "      <th>0</th>\n",
              "      <td>9976970</td>\n",
              "      <td>아 더빙   진짜 짜증나네요 목소리</td>\n",
              "      <td>0</td>\n",
              "    </tr>\n",
              "    <tr>\n",
              "      <th>1</th>\n",
              "      <td>3819312</td>\n",
              "      <td>흠   포스터보고 초딩영화줄    오버연기조차 가볍지 않구나</td>\n",
              "      <td>1</td>\n",
              "    </tr>\n",
              "    <tr>\n",
              "      <th>2</th>\n",
              "      <td>10265843</td>\n",
              "      <td>너무재밓었다그래서보는것을추천한다</td>\n",
              "      <td>0</td>\n",
              "    </tr>\n",
              "  </tbody>\n",
              "</table>\n",
              "</div>\n",
              "      <button class=\"colab-df-convert\" onclick=\"convertToInteractive('df-019ec0ed-28fe-4f77-bdc0-967ddc06ba05')\"\n",
              "              title=\"Convert this dataframe to an interactive table.\"\n",
              "              style=\"display:none;\">\n",
              "        \n",
              "  <svg xmlns=\"http://www.w3.org/2000/svg\" height=\"24px\"viewBox=\"0 0 24 24\"\n",
              "       width=\"24px\">\n",
              "    <path d=\"M0 0h24v24H0V0z\" fill=\"none\"/>\n",
              "    <path d=\"M18.56 5.44l.94 2.06.94-2.06 2.06-.94-2.06-.94-.94-2.06-.94 2.06-2.06.94zm-11 1L8.5 8.5l.94-2.06 2.06-.94-2.06-.94L8.5 2.5l-.94 2.06-2.06.94zm10 10l.94 2.06.94-2.06 2.06-.94-2.06-.94-.94-2.06-.94 2.06-2.06.94z\"/><path d=\"M17.41 7.96l-1.37-1.37c-.4-.4-.92-.59-1.43-.59-.52 0-1.04.2-1.43.59L10.3 9.45l-7.72 7.72c-.78.78-.78 2.05 0 2.83L4 21.41c.39.39.9.59 1.41.59.51 0 1.02-.2 1.41-.59l7.78-7.78 2.81-2.81c.8-.78.8-2.07 0-2.86zM5.41 20L4 18.59l7.72-7.72 1.47 1.35L5.41 20z\"/>\n",
              "  </svg>\n",
              "      </button>\n",
              "      \n",
              "  <style>\n",
              "    .colab-df-container {\n",
              "      display:flex;\n",
              "      flex-wrap:wrap;\n",
              "      gap: 12px;\n",
              "    }\n",
              "\n",
              "    .colab-df-convert {\n",
              "      background-color: #E8F0FE;\n",
              "      border: none;\n",
              "      border-radius: 50%;\n",
              "      cursor: pointer;\n",
              "      display: none;\n",
              "      fill: #1967D2;\n",
              "      height: 32px;\n",
              "      padding: 0 0 0 0;\n",
              "      width: 32px;\n",
              "    }\n",
              "\n",
              "    .colab-df-convert:hover {\n",
              "      background-color: #E2EBFA;\n",
              "      box-shadow: 0px 1px 2px rgba(60, 64, 67, 0.3), 0px 1px 3px 1px rgba(60, 64, 67, 0.15);\n",
              "      fill: #174EA6;\n",
              "    }\n",
              "\n",
              "    [theme=dark] .colab-df-convert {\n",
              "      background-color: #3B4455;\n",
              "      fill: #D2E3FC;\n",
              "    }\n",
              "\n",
              "    [theme=dark] .colab-df-convert:hover {\n",
              "      background-color: #434B5C;\n",
              "      box-shadow: 0px 1px 3px 1px rgba(0, 0, 0, 0.15);\n",
              "      filter: drop-shadow(0px 1px 2px rgba(0, 0, 0, 0.3));\n",
              "      fill: #FFFFFF;\n",
              "    }\n",
              "  </style>\n",
              "\n",
              "      <script>\n",
              "        const buttonEl =\n",
              "          document.querySelector('#df-019ec0ed-28fe-4f77-bdc0-967ddc06ba05 button.colab-df-convert');\n",
              "        buttonEl.style.display =\n",
              "          google.colab.kernel.accessAllowed ? 'block' : 'none';\n",
              "\n",
              "        async function convertToInteractive(key) {\n",
              "          const element = document.querySelector('#df-019ec0ed-28fe-4f77-bdc0-967ddc06ba05');\n",
              "          const dataTable =\n",
              "            await google.colab.kernel.invokeFunction('convertToInteractive',\n",
              "                                                     [key], {});\n",
              "          if (!dataTable) return;\n",
              "\n",
              "          const docLinkHtml = 'Like what you see? Visit the ' +\n",
              "            '<a target=\"_blank\" href=https://colab.research.google.com/notebooks/data_table.ipynb>data table notebook</a>'\n",
              "            + ' to learn more about interactive tables.';\n",
              "          element.innerHTML = '';\n",
              "          dataTable['output_type'] = 'display_data';\n",
              "          await google.colab.output.renderOutput(dataTable, element);\n",
              "          const docLink = document.createElement('div');\n",
              "          docLink.innerHTML = docLinkHtml;\n",
              "          element.appendChild(docLink);\n",
              "        }\n",
              "      </script>\n",
              "    </div>\n",
              "  </div>\n",
              "  "
            ]
          },
          "metadata": {},
          "execution_count": 25
        }
      ]
    },
    {
      "cell_type": "markdown",
      "source": [
        "- Tokenizer 함수 정의"
      ],
      "metadata": {
        "id": "4rqLNIJesIX-"
      }
    },
    {
      "cell_type": "code",
      "source": [
        "from konlpy.tag import Okt\n",
        "okt = Okt()"
      ],
      "metadata": {
        "id": "VXJyBkylrwEy"
      },
      "execution_count": 26,
      "outputs": []
    },
    {
      "cell_type": "code",
      "source": [
        "stop_words = ['의','가','이','은','들','는','좀','잘','걍','과','도','를','으로','자','에','와','한','하다','을','ㅋㅋ','ㅠㅠ','ㅎㅎ']\n",
        "# a = '은 는 이 가'.split() stop_words 이렇게 추가하는게 편함"
      ],
      "metadata": {
        "id": "j6q9hA7bsP7t"
      },
      "execution_count": 27,
      "outputs": []
    },
    {
      "cell_type": "code",
      "source": [
        "def okt_tokenizer(text):\n",
        "    morphs = okt.morphs(text, stem = True)\n",
        "    tokens = [word for word in morphs if word not in stop_words]\n",
        "    return tokens"
      ],
      "metadata": {
        "id": "ocsEbu7hssOK"
      },
      "execution_count": 28,
      "outputs": []
    },
    {
      "cell_type": "code",
      "source": [
        "okt_tokenizer('열심히 일한 당신 주말엔 여행을 떠나봐요.')"
      ],
      "metadata": {
        "colab": {
          "base_uri": "https://localhost:8080/"
        },
        "id": "nEGT_C05tOb0",
        "outputId": "0a9b9406-7aa6-4a63-b734-8694b31a6fdd"
      },
      "execution_count": 29,
      "outputs": [
        {
          "output_type": "execute_result",
          "data": {
            "text/plain": [
              "['열심히', '일', '당신', '주말', '엔', '여행', '떠나다', '보다', '.']"
            ]
          },
          "metadata": {},
          "execution_count": 29
        }
      ]
    },
    {
      "cell_type": "markdown",
      "source": [
        "- PipeLine으로 피쳐 변환과 분류를 동시에"
      ],
      "metadata": {
        "id": "hhYd5BOnt22Z"
      }
    },
    {
      "cell_type": "code",
      "source": [
        "from sklearn.feature_extraction.text import TfidfVectorizer\n",
        "from sklearn.linear_model import LogisticRegression\n",
        "from sklearn.pipeline import Pipeline"
      ],
      "metadata": {
        "id": "XSEKxc2MtXM6"
      },
      "execution_count": 30,
      "outputs": []
    },
    {
      "cell_type": "code",
      "source": [
        "pipeline = Pipeline([\n",
        "    ('TFIDF',TfidfVectorizer(tokenizer=okt_tokenizer)),\n",
        "    ('LR', LogisticRegression(random_state=2022))\n",
        "])\n",
        "pipeline.fit(train_df.document,train_df.label)"
      ],
      "metadata": {
        "id": "fKEjzCh1uGsu",
        "colab": {
          "base_uri": "https://localhost:8080/"
        },
        "outputId": "77b3ab7f-f563-45b9-b560-f0bd6a08cdeb"
      },
      "execution_count": 31,
      "outputs": [
        {
          "output_type": "execute_result",
          "data": {
            "text/plain": [
              "Pipeline(steps=[('TFIDF',\n",
              "                 TfidfVectorizer(tokenizer=<function okt_tokenizer at 0x7f290dbf39e0>)),\n",
              "                ('LR', LogisticRegression(random_state=2022))])"
            ]
          },
          "metadata": {},
          "execution_count": 31
        }
      ]
    },
    {
      "cell_type": "code",
      "source": [
        "pipeline.score(test_df.document, test_df.label)"
      ],
      "metadata": {
        "id": "meTCxB0cvGTN",
        "colab": {
          "base_uri": "https://localhost:8080/"
        },
        "outputId": "cdc2d490-0ce0-4d2f-9ba5-5e49e6a322d6"
      },
      "execution_count": 32,
      "outputs": [
        {
          "output_type": "execute_result",
          "data": {
            "text/plain": [
              "0.8425910765452312"
            ]
          },
          "metadata": {},
          "execution_count": 32
        }
      ]
    },
    {
      "cell_type": "markdown",
      "source": [
        "- 실제 데이터 테스트"
      ],
      "metadata": {
        "id": "cXS5fPflw5dB"
      }
    },
    {
      "cell_type": "code",
      "source": [
        "import re\n",
        "reviews = ['모든 국민이 봤으면 하는 영화입니다.',\n",
        "           '생각보다 지루하고 별로였네요... 보면서 좀 졸았습니다.']\n",
        "reviews = map(lambda x: re.sub('[^가-힣]','',x), reviews)"
      ],
      "metadata": {
        "id": "XI_CpL8xw6_S"
      },
      "execution_count": 33,
      "outputs": []
    },
    {
      "cell_type": "code",
      "source": [
        "pipeline.predict(reviews)"
      ],
      "metadata": {
        "id": "61h8Xj1yxpFe",
        "colab": {
          "base_uri": "https://localhost:8080/"
        },
        "outputId": "6d6ca253-6d02-4a81-c37c-da9268a6567d"
      },
      "execution_count": 34,
      "outputs": [
        {
          "output_type": "execute_result",
          "data": {
            "text/plain": [
              "array([1, 0])"
            ]
          },
          "metadata": {},
          "execution_count": 34
        }
      ]
    },
    {
      "cell_type": "markdown",
      "source": [
        "- 최적 파라미터 찾기\n",
        "  - 매 시행시마다 한글 형태소 분석을 하느라 시간이 너무 오래 걸림\n",
        "  - 최적 파라미터를 찾으려고 하면 한글 형태소 분석을 한 데이터로 할 것"
      ],
      "metadata": {
        "id": "Zk0kuI7Ey7vW"
      }
    },
    {
      "cell_type": "code",
      "source": [
        "from sklearn.model_selection import GridSearchCV\n",
        "params = {\n",
        "    'TFIDF__ngram_range':[(1,1),(1,2)],\n",
        "    'TFIDF__max_df': [0.95, 0.98],\n",
        "    'LR__C': [1,5]\n",
        "}"
      ],
      "metadata": {
        "id": "5NZ3BGNAy7VT"
      },
      "execution_count": 35,
      "outputs": []
    },
    {
      "cell_type": "code",
      "source": [
        "grid_pipe = GridSearchCV(pipeline, params, scoring = 'accuracy', cv=3)\n",
        "%time grid_pipe.fit(X_train.document,y_train.label)"
      ],
      "metadata": {
        "id": "wlg-pT39zCFW"
      },
      "execution_count": null,
      "outputs": []
    },
    {
      "cell_type": "markdown",
      "source": [
        "- CounterVectorizer 사례에서 찾은 최적의 파라미터로 평가"
      ],
      "metadata": {
        "id": "vgGmjjI63Gb-"
      }
    },
    {
      "cell_type": "code",
      "source": [
        "pipeline = Pipeline([\n",
        "    ('TFIDF',TfidfVectorizer(tokenizer=okt_tokenizer, max_df = 0.05, ngram_range=(1,2))),\n",
        "    ('LR', LogisticRegression(random_state=2022))\n",
        "])\n",
        "pipeline.fit(train_df.document,train_df.label)"
      ],
      "metadata": {
        "colab": {
          "base_uri": "https://localhost:8080/"
        },
        "id": "Og-PEcVP3ASG",
        "outputId": "143d1f05-12ec-4a4d-ebfb-8452cf9f9e9b"
      },
      "execution_count": 36,
      "outputs": [
        {
          "output_type": "execute_result",
          "data": {
            "text/plain": [
              "Pipeline(steps=[('TFIDF',\n",
              "                 TfidfVectorizer(max_df=0.05, ngram_range=(1, 2),\n",
              "                                 tokenizer=<function okt_tokenizer at 0x7f290dbf39e0>)),\n",
              "                ('LR', LogisticRegression(random_state=2022))])"
            ]
          },
          "metadata": {},
          "execution_count": 36
        }
      ]
    },
    {
      "cell_type": "code",
      "source": [
        "pipeline.score(test_df.document, test_df.label)"
      ],
      "metadata": {
        "colab": {
          "base_uri": "https://localhost:8080/"
        },
        "id": "9hYVcVhO2_zz",
        "outputId": "4215aaf2-11f9-492d-fea3-bf4fffe8e77f"
      },
      "execution_count": 37,
      "outputs": [
        {
          "output_type": "execute_result",
          "data": {
            "text/plain": [
              "0.8549324600900532"
            ]
          },
          "metadata": {},
          "execution_count": 37
        }
      ]
    },
    {
      "cell_type": "code",
      "source": [
        ""
      ],
      "metadata": {
        "id": "j2i0ndYw5bqd"
      },
      "execution_count": null,
      "outputs": []
    }
  ]
}