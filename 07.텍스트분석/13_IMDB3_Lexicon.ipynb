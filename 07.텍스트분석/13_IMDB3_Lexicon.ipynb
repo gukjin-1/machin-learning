{
  "nbformat": 4,
  "nbformat_minor": 0,
  "metadata": {
    "colab": {
      "name": "13_IMDB3-Lexicon.ipynb",
      "provenance": [],
      "collapsed_sections": []
    },
    "kernelspec": {
      "name": "python3",
      "display_name": "Python 3"
    },
    "language_info": {
      "name": "python"
    }
  },
  "cells": [
    {
      "cell_type": "markdown",
      "source": [
        "## 비지도학습 감성분석 - Lexicon 기반"
      ],
      "metadata": {
        "id": "ZGa6qX7_5Ijs"
      }
    },
    {
      "cell_type": "code",
      "execution_count": 2,
      "metadata": {
        "id": "9-G7QMPme2mm"
      },
      "outputs": [],
      "source": [
        "import numpy as np\n",
        "import pandas as pd"
      ]
    },
    {
      "cell_type": "code",
      "source": [
        "import warnings\n",
        "warnings.filterwarnings('ignore')"
      ],
      "metadata": {
        "id": "YlB_1RXf5KtY"
      },
      "execution_count": 3,
      "outputs": []
    },
    {
      "cell_type": "markdown",
      "source": [
        "### Wordnet Synset 및 Sentiwordnet SentiSysnset 클래스"
      ],
      "metadata": {
        "id": "Tc1_h3uE5PZT"
      }
    },
    {
      "cell_type": "code",
      "source": [
        "import nltk\n",
        "nltk.download('wordnet')"
      ],
      "metadata": {
        "colab": {
          "base_uri": "https://localhost:8080/"
        },
        "id": "X-RGd4df5Oez",
        "outputId": "ade987d9-9372-4376-deef-70810cd6b267"
      },
      "execution_count": 4,
      "outputs": [
        {
          "output_type": "stream",
          "name": "stdout",
          "text": [
            "[nltk_data] Downloading package wordnet to /root/nltk_data...\n",
            "[nltk_data]   Unzipping corpora/wordnet.zip.\n"
          ]
        },
        {
          "output_type": "execute_result",
          "data": {
            "text/plain": [
              "True"
            ]
          },
          "metadata": {},
          "execution_count": 4
        }
      ]
    },
    {
      "cell_type": "code",
      "source": [
        "from nltk.corpus import wordnet"
      ],
      "metadata": {
        "id": "AV9SVfvM5RNR"
      },
      "execution_count": 5,
      "outputs": []
    },
    {
      "cell_type": "code",
      "source": [
        "term = 'fly'\n",
        "synsets = wordnet.synsets(term)"
      ],
      "metadata": {
        "id": "V827YDvV5SQV"
      },
      "execution_count": 6,
      "outputs": []
    },
    {
      "cell_type": "code",
      "source": [
        "type(synsets), len(synsets)"
      ],
      "metadata": {
        "colab": {
          "base_uri": "https://localhost:8080/"
        },
        "id": "HgM39vjf5T3u",
        "outputId": "0f4e130c-6f83-40a1-ed59-91b4ca0d1a6d"
      },
      "execution_count": 7,
      "outputs": [
        {
          "output_type": "execute_result",
          "data": {
            "text/plain": [
              "(list, 20)"
            ]
          },
          "metadata": {},
          "execution_count": 7
        }
      ]
    },
    {
      "cell_type": "code",
      "source": [
        "for synset in synsets:\n",
        "    print(f'##### name: {synset.name()} #####')\n",
        "    print('POS:', synset.lexname())\n",
        "    print('정의:', synset.definition())\n",
        "    print('표제어:', synset.lemma_names())"
      ],
      "metadata": {
        "colab": {
          "base_uri": "https://localhost:8080/"
        },
        "id": "nqz-dP0P5UtG",
        "outputId": "07e20cd3-5a30-4cf2-9415-804c8a05dbd1"
      },
      "execution_count": 8,
      "outputs": [
        {
          "output_type": "stream",
          "name": "stdout",
          "text": [
            "##### name: fly.n.01 #####\n",
            "POS: noun.animal\n",
            "정의: two-winged insects characterized by active flight\n",
            "표제어: ['fly']\n",
            "##### name: tent-fly.n.01 #####\n",
            "POS: noun.artifact\n",
            "정의: flap consisting of a piece of canvas that can be drawn back to provide entrance to a tent\n",
            "표제어: ['tent-fly', 'rainfly', 'fly_sheet', 'fly', 'tent_flap']\n",
            "##### name: fly.n.03 #####\n",
            "POS: noun.artifact\n",
            "정의: an opening in a garment that is closed by a zipper or by buttons concealed under a fold of cloth\n",
            "표제어: ['fly', 'fly_front']\n",
            "##### name: fly.n.04 #####\n",
            "POS: noun.act\n",
            "정의: (baseball) a hit that flies up in the air\n",
            "표제어: ['fly', 'fly_ball']\n",
            "##### name: fly.n.05 #####\n",
            "POS: noun.artifact\n",
            "정의: fisherman's lure consisting of a fishhook decorated to look like an insect\n",
            "표제어: ['fly']\n",
            "##### name: fly.v.01 #####\n",
            "POS: verb.motion\n",
            "정의: travel through the air; be airborne\n",
            "표제어: ['fly', 'wing']\n",
            "##### name: fly.v.02 #####\n",
            "POS: verb.motion\n",
            "정의: move quickly or suddenly\n",
            "표제어: ['fly']\n",
            "##### name: fly.v.03 #####\n",
            "POS: verb.motion\n",
            "정의: operate an airplane\n",
            "표제어: ['fly', 'aviate', 'pilot']\n",
            "##### name: fly.v.04 #####\n",
            "POS: verb.contact\n",
            "정의: transport by aeroplane\n",
            "표제어: ['fly']\n",
            "##### name: fly.v.05 #####\n",
            "POS: verb.motion\n",
            "정의: cause to fly or float\n",
            "표제어: ['fly']\n",
            "##### name: fly.v.06 #####\n",
            "POS: verb.motion\n",
            "정의: be dispersed or disseminated\n",
            "표제어: ['fly']\n",
            "##### name: fly.v.07 #####\n",
            "POS: verb.change\n",
            "정의: change quickly from one emotional state to another\n",
            "표제어: ['fly']\n",
            "##### name: fly.v.08 #####\n",
            "POS: verb.motion\n",
            "정의: pass away rapidly\n",
            "표제어: ['fly', 'fell', 'vanish']\n",
            "##### name: fly.v.09 #####\n",
            "POS: verb.motion\n",
            "정의: travel in an airplane\n",
            "표제어: ['fly']\n",
            "##### name: fly.v.10 #####\n",
            "POS: verb.perception\n",
            "정의: display in the air or cause to float\n",
            "표제어: ['fly']\n",
            "##### name: flee.v.01 #####\n",
            "POS: verb.motion\n",
            "정의: run away quickly\n",
            "표제어: ['flee', 'fly', 'take_flight']\n",
            "##### name: fly.v.12 #####\n",
            "POS: verb.motion\n",
            "정의: travel over (an area of land or sea) in an aircraft\n",
            "표제어: ['fly']\n",
            "##### name: fly.v.13 #####\n",
            "POS: verb.contact\n",
            "정의: hit a fly\n",
            "표제어: ['fly']\n",
            "##### name: vanish.v.05 #####\n",
            "POS: verb.change\n",
            "정의: decrease rapidly and disappear\n",
            "표제어: ['vanish', 'fly', 'vaporize']\n",
            "##### name: fly.s.01 #####\n",
            "POS: adj.all\n",
            "정의: (British informal) not to be deceived or hoodwinked\n",
            "표제어: ['fly']\n"
          ]
        }
      ]
    },
    {
      "cell_type": "markdown",
      "source": [
        "- 어휘간의 유사도"
      ],
      "metadata": {
        "id": "z7K34vfz5XY9"
      }
    },
    {
      "cell_type": "code",
      "source": [
        "# 단어, 품사를 모를 경우에는 synsets()으로 알아냄\n",
        "for synset in wordnet.synsets('tiger'):\n",
        "    print(synset.name(), synset.definition())"
      ],
      "metadata": {
        "colab": {
          "base_uri": "https://localhost:8080/"
        },
        "id": "Nm3c7wCt5V04",
        "outputId": "597b0204-abb9-426e-9879-910844e15f7b"
      },
      "execution_count": 9,
      "outputs": [
        {
          "output_type": "stream",
          "name": "stdout",
          "text": [
            "tiger.n.01 a fierce or audacious person\n",
            "tiger.n.02 large feline of forests in most of Asia having a tawny coat with black stripes; endangered\n"
          ]
        }
      ]
    },
    {
      "cell_type": "code",
      "source": [
        "# 단어, 품사를 아는 경우에는 synset() \n",
        "tiger = wordnet.synset('tiger.n.02')\n",
        "tree = wordnet.synset('tree.n.01')\n",
        "lion = wordnet.synset('lion.n.01')\n",
        "cat = wordnet.synset('cat.n.01')\n",
        "dog = wordnet.synset('dog.n.01')"
      ],
      "metadata": {
        "id": "UjbilCVI5YtE"
      },
      "execution_count": 10,
      "outputs": []
    },
    {
      "cell_type": "code",
      "source": [
        "# 단어간의 유사도\n",
        "tiger.path_similarity(lion), tiger.path_similarity(dog), tiger.path_similarity(tree)"
      ],
      "metadata": {
        "colab": {
          "base_uri": "https://localhost:8080/"
        },
        "id": "Kv_Vhazl5ZfM",
        "outputId": "f352f6c5-2249-4e29-f1ae-69930bee6cc0"
      },
      "execution_count": 11,
      "outputs": [
        {
          "output_type": "execute_result",
          "data": {
            "text/plain": [
              "(0.3333333333333333, 0.16666666666666666, 0.07142857142857142)"
            ]
          },
          "metadata": {},
          "execution_count": 11
        }
      ]
    },
    {
      "cell_type": "code",
      "source": [
        "# 5개 단어간의 유사도\n",
        "similarities = []\n",
        "entities = [tree, lion, tiger, cat, dog]\n",
        "for entity in entities:\n",
        "    similarity = [entity.path_similarity(another) for another in entities]\n",
        "    similarities.append(similarity)"
      ],
      "metadata": {
        "id": "NSeCDAr45aes"
      },
      "execution_count": 12,
      "outputs": []
    },
    {
      "cell_type": "code",
      "source": [
        "df = pd.DataFrame(similarities, columns=['tree','lion','tiger','cat','dog'],\n",
        "                  index=['tree','lion','tiger','cat','dog'])\n",
        "df"
      ],
      "metadata": {
        "colab": {
          "base_uri": "https://localhost:8080/",
          "height": 206
        },
        "id": "3ZBGIHku5bVf",
        "outputId": "2aef8405-a7d0-4d38-90dc-2cde83dfd98b"
      },
      "execution_count": 13,
      "outputs": [
        {
          "output_type": "execute_result",
          "data": {
            "text/plain": [
              "           tree      lion     tiger       cat       dog\n",
              "tree   1.000000  0.071429  0.071429  0.076923  0.125000\n",
              "lion   0.071429  1.000000  0.333333  0.250000  0.166667\n",
              "tiger  0.071429  0.333333  1.000000  0.250000  0.166667\n",
              "cat    0.076923  0.250000  0.250000  1.000000  0.200000\n",
              "dog    0.125000  0.166667  0.166667  0.200000  1.000000"
            ],
            "text/html": [
              "\n",
              "  <div id=\"df-0e9bfdbc-18ae-49ae-b621-8e413a85eee3\">\n",
              "    <div class=\"colab-df-container\">\n",
              "      <div>\n",
              "<style scoped>\n",
              "    .dataframe tbody tr th:only-of-type {\n",
              "        vertical-align: middle;\n",
              "    }\n",
              "\n",
              "    .dataframe tbody tr th {\n",
              "        vertical-align: top;\n",
              "    }\n",
              "\n",
              "    .dataframe thead th {\n",
              "        text-align: right;\n",
              "    }\n",
              "</style>\n",
              "<table border=\"1\" class=\"dataframe\">\n",
              "  <thead>\n",
              "    <tr style=\"text-align: right;\">\n",
              "      <th></th>\n",
              "      <th>tree</th>\n",
              "      <th>lion</th>\n",
              "      <th>tiger</th>\n",
              "      <th>cat</th>\n",
              "      <th>dog</th>\n",
              "    </tr>\n",
              "  </thead>\n",
              "  <tbody>\n",
              "    <tr>\n",
              "      <th>tree</th>\n",
              "      <td>1.000000</td>\n",
              "      <td>0.071429</td>\n",
              "      <td>0.071429</td>\n",
              "      <td>0.076923</td>\n",
              "      <td>0.125000</td>\n",
              "    </tr>\n",
              "    <tr>\n",
              "      <th>lion</th>\n",
              "      <td>0.071429</td>\n",
              "      <td>1.000000</td>\n",
              "      <td>0.333333</td>\n",
              "      <td>0.250000</td>\n",
              "      <td>0.166667</td>\n",
              "    </tr>\n",
              "    <tr>\n",
              "      <th>tiger</th>\n",
              "      <td>0.071429</td>\n",
              "      <td>0.333333</td>\n",
              "      <td>1.000000</td>\n",
              "      <td>0.250000</td>\n",
              "      <td>0.166667</td>\n",
              "    </tr>\n",
              "    <tr>\n",
              "      <th>cat</th>\n",
              "      <td>0.076923</td>\n",
              "      <td>0.250000</td>\n",
              "      <td>0.250000</td>\n",
              "      <td>1.000000</td>\n",
              "      <td>0.200000</td>\n",
              "    </tr>\n",
              "    <tr>\n",
              "      <th>dog</th>\n",
              "      <td>0.125000</td>\n",
              "      <td>0.166667</td>\n",
              "      <td>0.166667</td>\n",
              "      <td>0.200000</td>\n",
              "      <td>1.000000</td>\n",
              "    </tr>\n",
              "  </tbody>\n",
              "</table>\n",
              "</div>\n",
              "      <button class=\"colab-df-convert\" onclick=\"convertToInteractive('df-0e9bfdbc-18ae-49ae-b621-8e413a85eee3')\"\n",
              "              title=\"Convert this dataframe to an interactive table.\"\n",
              "              style=\"display:none;\">\n",
              "        \n",
              "  <svg xmlns=\"http://www.w3.org/2000/svg\" height=\"24px\"viewBox=\"0 0 24 24\"\n",
              "       width=\"24px\">\n",
              "    <path d=\"M0 0h24v24H0V0z\" fill=\"none\"/>\n",
              "    <path d=\"M18.56 5.44l.94 2.06.94-2.06 2.06-.94-2.06-.94-.94-2.06-.94 2.06-2.06.94zm-11 1L8.5 8.5l.94-2.06 2.06-.94-2.06-.94L8.5 2.5l-.94 2.06-2.06.94zm10 10l.94 2.06.94-2.06 2.06-.94-2.06-.94-.94-2.06-.94 2.06-2.06.94z\"/><path d=\"M17.41 7.96l-1.37-1.37c-.4-.4-.92-.59-1.43-.59-.52 0-1.04.2-1.43.59L10.3 9.45l-7.72 7.72c-.78.78-.78 2.05 0 2.83L4 21.41c.39.39.9.59 1.41.59.51 0 1.02-.2 1.41-.59l7.78-7.78 2.81-2.81c.8-.78.8-2.07 0-2.86zM5.41 20L4 18.59l7.72-7.72 1.47 1.35L5.41 20z\"/>\n",
              "  </svg>\n",
              "      </button>\n",
              "      \n",
              "  <style>\n",
              "    .colab-df-container {\n",
              "      display:flex;\n",
              "      flex-wrap:wrap;\n",
              "      gap: 12px;\n",
              "    }\n",
              "\n",
              "    .colab-df-convert {\n",
              "      background-color: #E8F0FE;\n",
              "      border: none;\n",
              "      border-radius: 50%;\n",
              "      cursor: pointer;\n",
              "      display: none;\n",
              "      fill: #1967D2;\n",
              "      height: 32px;\n",
              "      padding: 0 0 0 0;\n",
              "      width: 32px;\n",
              "    }\n",
              "\n",
              "    .colab-df-convert:hover {\n",
              "      background-color: #E2EBFA;\n",
              "      box-shadow: 0px 1px 2px rgba(60, 64, 67, 0.3), 0px 1px 3px 1px rgba(60, 64, 67, 0.15);\n",
              "      fill: #174EA6;\n",
              "    }\n",
              "\n",
              "    [theme=dark] .colab-df-convert {\n",
              "      background-color: #3B4455;\n",
              "      fill: #D2E3FC;\n",
              "    }\n",
              "\n",
              "    [theme=dark] .colab-df-convert:hover {\n",
              "      background-color: #434B5C;\n",
              "      box-shadow: 0px 1px 3px 1px rgba(0, 0, 0, 0.15);\n",
              "      filter: drop-shadow(0px 1px 2px rgba(0, 0, 0, 0.3));\n",
              "      fill: #FFFFFF;\n",
              "    }\n",
              "  </style>\n",
              "\n",
              "      <script>\n",
              "        const buttonEl =\n",
              "          document.querySelector('#df-0e9bfdbc-18ae-49ae-b621-8e413a85eee3 button.colab-df-convert');\n",
              "        buttonEl.style.display =\n",
              "          google.colab.kernel.accessAllowed ? 'block' : 'none';\n",
              "\n",
              "        async function convertToInteractive(key) {\n",
              "          const element = document.querySelector('#df-0e9bfdbc-18ae-49ae-b621-8e413a85eee3');\n",
              "          const dataTable =\n",
              "            await google.colab.kernel.invokeFunction('convertToInteractive',\n",
              "                                                     [key], {});\n",
              "          if (!dataTable) return;\n",
              "\n",
              "          const docLinkHtml = 'Like what you see? Visit the ' +\n",
              "            '<a target=\"_blank\" href=https://colab.research.google.com/notebooks/data_table.ipynb>data table notebook</a>'\n",
              "            + ' to learn more about interactive tables.';\n",
              "          element.innerHTML = '';\n",
              "          dataTable['output_type'] = 'display_data';\n",
              "          await google.colab.output.renderOutput(dataTable, element);\n",
              "          const docLink = document.createElement('div');\n",
              "          docLink.innerHTML = docLinkHtml;\n",
              "          element.appendChild(docLink);\n",
              "        }\n",
              "      </script>\n",
              "    </div>\n",
              "  </div>\n",
              "  "
            ]
          },
          "metadata": {},
          "execution_count": 13
        }
      ]
    },
    {
      "cell_type": "markdown",
      "source": [
        "- SentiSynset 클래스\n"
      ],
      "metadata": {
        "id": "RyCeaFVt5ddc"
      }
    },
    {
      "cell_type": "code",
      "source": [
        "nltk.download('sentiwordnet')"
      ],
      "metadata": {
        "colab": {
          "base_uri": "https://localhost:8080/"
        },
        "id": "RugKw58D5cIF",
        "outputId": "09afb7c8-ccc1-4621-ded2-b2a306692ec5"
      },
      "execution_count": 14,
      "outputs": [
        {
          "output_type": "stream",
          "name": "stdout",
          "text": [
            "[nltk_data] Downloading package sentiwordnet to /root/nltk_data...\n",
            "[nltk_data]   Unzipping corpora/sentiwordnet.zip.\n"
          ]
        },
        {
          "output_type": "execute_result",
          "data": {
            "text/plain": [
              "True"
            ]
          },
          "metadata": {},
          "execution_count": 14
        }
      ]
    },
    {
      "cell_type": "code",
      "source": [
        "from nltk.corpus import sentiwordnet\n",
        "senti_synsets = list(sentiwordnet.senti_synsets('slow'))"
      ],
      "metadata": {
        "id": "Xh7OgJAS5e15"
      },
      "execution_count": 15,
      "outputs": []
    },
    {
      "cell_type": "code",
      "source": [
        "senti_synsets"
      ],
      "metadata": {
        "colab": {
          "base_uri": "https://localhost:8080/"
        },
        "id": "b6GEnjAo5fiO",
        "outputId": "81dd0c93-008f-4cb1-8856-39cbae1a00d9"
      },
      "execution_count": 16,
      "outputs": [
        {
          "output_type": "execute_result",
          "data": {
            "text/plain": [
              "[SentiSynset('decelerate.v.01'),\n",
              " SentiSynset('slow.v.02'),\n",
              " SentiSynset('slow.v.03'),\n",
              " SentiSynset('slow.a.01'),\n",
              " SentiSynset('slow.a.02'),\n",
              " SentiSynset('dense.s.04'),\n",
              " SentiSynset('slow.a.04'),\n",
              " SentiSynset('boring.s.01'),\n",
              " SentiSynset('dull.s.08'),\n",
              " SentiSynset('slowly.r.01'),\n",
              " SentiSynset('behind.r.03')]"
            ]
          },
          "metadata": {},
          "execution_count": 16
        }
      ]
    },
    {
      "cell_type": "code",
      "source": [
        "# father 단어의 긍정/부정/객관성 지수\n",
        "father = sentiwordnet.senti_synset('father.n.01')\n",
        "father.pos_score(), father.neg_score(), father.obj_score()"
      ],
      "metadata": {
        "colab": {
          "base_uri": "https://localhost:8080/"
        },
        "id": "4Dau1SRi5gPO",
        "outputId": "576b8fa5-8549-4f18-95d0-368602e3a850"
      },
      "execution_count": 17,
      "outputs": [
        {
          "output_type": "execute_result",
          "data": {
            "text/plain": [
              "(0.0, 0.0, 1.0)"
            ]
          },
          "metadata": {},
          "execution_count": 17
        }
      ]
    },
    {
      "cell_type": "code",
      "source": [
        "# mother 단어의 긍정/부정/객관성 지수\n",
        "mother = sentiwordnet.senti_synset('mother.n.01')\n",
        "mother.pos_score(), mother.neg_score(), mother.obj_score()"
      ],
      "metadata": {
        "colab": {
          "base_uri": "https://localhost:8080/"
        },
        "id": "lbALlcRy5hKU",
        "outputId": "ee1bd3fa-e802-4da4-9645-bdd7e1f2133c"
      },
      "execution_count": 18,
      "outputs": [
        {
          "output_type": "execute_result",
          "data": {
            "text/plain": [
              "(0.0, 0.0, 1.0)"
            ]
          },
          "metadata": {},
          "execution_count": 18
        }
      ]
    },
    {
      "cell_type": "code",
      "source": [
        "# fabulous 단어의 긍정/부정/객관성 지수\n",
        "fabulous = sentiwordnet.senti_synset('fabulous.a.01')\n",
        "fabulous.pos_score(), fabulous.neg_score(), fabulous.obj_score()"
      ],
      "metadata": {
        "colab": {
          "base_uri": "https://localhost:8080/"
        },
        "id": "fz-EfWlN5h8v",
        "outputId": "78b771ea-0a05-43e6-aeb7-3ec06b351023"
      },
      "execution_count": 19,
      "outputs": [
        {
          "output_type": "execute_result",
          "data": {
            "text/plain": [
              "(0.875, 0.125, 0.0)"
            ]
          },
          "metadata": {},
          "execution_count": 19
        }
      ]
    },
    {
      "cell_type": "code",
      "source": [
        "# love 단어의 긍정/부정/객관성 지수\n",
        "love = sentiwordnet.senti_synset('love.v.01')\n",
        "love.pos_score(), love.neg_score(), love.obj_score()"
      ],
      "metadata": {
        "colab": {
          "base_uri": "https://localhost:8080/"
        },
        "id": "qqScXnUN5i4c",
        "outputId": "fe48dd36-0837-4fc7-94ec-8b8a7465801b"
      },
      "execution_count": 20,
      "outputs": [
        {
          "output_type": "execute_result",
          "data": {
            "text/plain": [
              "(0.5, 0.0, 0.5)"
            ]
          },
          "metadata": {},
          "execution_count": 20
        }
      ]
    },
    {
      "cell_type": "code",
      "source": [
        "wordnet.NOUN, wordnet.ADJ, wordnet.ADV, wordnet.VERB"
      ],
      "metadata": {
        "colab": {
          "base_uri": "https://localhost:8080/"
        },
        "id": "uPPFZTBK5j25",
        "outputId": "dccbda4c-b873-4cac-f0a0-636513a710f5"
      },
      "execution_count": 21,
      "outputs": [
        {
          "output_type": "execute_result",
          "data": {
            "text/plain": [
              "('n', 'a', 'r', 'v')"
            ]
          },
          "metadata": {},
          "execution_count": 21
        }
      ]
    },
    {
      "cell_type": "markdown",
      "source": [
        "- 감성지수 계산"
      ],
      "metadata": {
        "id": "HUrGQ5uZ5lf9"
      }
    },
    {
      "cell_type": "code",
      "source": [
        "nltk.download('punkt')"
      ],
      "metadata": {
        "colab": {
          "base_uri": "https://localhost:8080/"
        },
        "id": "gnDucyCe5kkI",
        "outputId": "c61c435a-29f4-48e7-a76e-4598fd7fcb79"
      },
      "execution_count": 22,
      "outputs": [
        {
          "output_type": "stream",
          "name": "stdout",
          "text": [
            "[nltk_data] Downloading package punkt to /root/nltk_data...\n",
            "[nltk_data]   Unzipping tokenizers/punkt.zip.\n"
          ]
        },
        {
          "output_type": "execute_result",
          "data": {
            "text/plain": [
              "True"
            ]
          },
          "metadata": {},
          "execution_count": 22
        }
      ]
    },
    {
      "cell_type": "code",
      "source": [
        "from nltk import word_tokenize, pos_tag\n",
        "sentence = \"It's good to see you again.\"\n",
        "word_list = word_tokenize(sentence)\n",
        "word_list"
      ],
      "metadata": {
        "colab": {
          "base_uri": "https://localhost:8080/"
        },
        "id": "Swl1IxqU5m4A",
        "outputId": "53945466-edf9-476d-8d17-05c0b523f16f"
      },
      "execution_count": 23,
      "outputs": [
        {
          "output_type": "execute_result",
          "data": {
            "text/plain": [
              "['It', \"'s\", 'good', 'to', 'see', 'you', 'again', '.']"
            ]
          },
          "metadata": {},
          "execution_count": 23
        }
      ]
    },
    {
      "cell_type": "code",
      "source": [
        "nltk.download('averaged_perceptron_tagger')"
      ],
      "metadata": {
        "colab": {
          "base_uri": "https://localhost:8080/"
        },
        "id": "4TAySOyV5nlf",
        "outputId": "f9ab0c89-567a-4c12-c087-c0fe04209c1c"
      },
      "execution_count": 24,
      "outputs": [
        {
          "output_type": "stream",
          "name": "stdout",
          "text": [
            "[nltk_data] Downloading package averaged_perceptron_tagger to\n",
            "[nltk_data]     /root/nltk_data...\n",
            "[nltk_data]   Unzipping taggers/averaged_perceptron_tagger.zip.\n"
          ]
        },
        {
          "output_type": "execute_result",
          "data": {
            "text/plain": [
              "True"
            ]
          },
          "metadata": {},
          "execution_count": 24
        }
      ]
    },
    {
      "cell_type": "code",
      "source": [
        "pos_tag(word_list)"
      ],
      "metadata": {
        "colab": {
          "base_uri": "https://localhost:8080/"
        },
        "id": "YBW2tTKW5odp",
        "outputId": "a095d9c3-2752-4794-fd21-3bedd9f5ac75"
      },
      "execution_count": 25,
      "outputs": [
        {
          "output_type": "execute_result",
          "data": {
            "text/plain": [
              "[('It', 'PRP'),\n",
              " (\"'s\", 'VBZ'),\n",
              " ('good', 'JJ'),\n",
              " ('to', 'TO'),\n",
              " ('see', 'VB'),\n",
              " ('you', 'PRP'),\n",
              " ('again', 'RB'),\n",
              " ('.', '.')]"
            ]
          },
          "metadata": {},
          "execution_count": 25
        }
      ]
    },
    {
      "cell_type": "code",
      "source": [
        "def penn_to_wordnet(tag):\n",
        "    if tag.startswith('N'):\n",
        "        return wordnet.NOUN\n",
        "    if tag.startswith('J'):\n",
        "        return wordnet.ADJ\n",
        "    if tag.startswith('R'):\n",
        "        return wordnet.ADV\n",
        "    if tag.startswith('V'):\n",
        "        return wordnet.VERB"
      ],
      "metadata": {
        "id": "9LLrAoQq5pYq"
      },
      "execution_count": 26,
      "outputs": []
    },
    {
      "cell_type": "code",
      "source": [
        "for word, pos in pos_tag(word_list):\n",
        "    print(word, penn_to_wordnet(pos))"
      ],
      "metadata": {
        "colab": {
          "base_uri": "https://localhost:8080/"
        },
        "id": "jUcXPwcY5qaH",
        "outputId": "c277f7b4-787d-41b3-9a6f-111b1c827598"
      },
      "execution_count": 27,
      "outputs": [
        {
          "output_type": "stream",
          "name": "stdout",
          "text": [
            "It None\n",
            "'s v\n",
            "good a\n",
            "to None\n",
            "see v\n",
            "you None\n",
            "again r\n",
            ". None\n"
          ]
        }
      ]
    },
    {
      "cell_type": "markdown",
      "source": [
        "- Sentence로부터 감성지수를 계산하는 과정"
      ],
      "metadata": {
        "id": "hVKw4u1T5sOy"
      }
    },
    {
      "cell_type": "code",
      "source": [
        "sentence = \"It's good to see you again.\"\n",
        "word_list = [word for word in word_tokenize(sentence) if len(word) > 2]\n",
        "word_list"
      ],
      "metadata": {
        "colab": {
          "base_uri": "https://localhost:8080/"
        },
        "id": "Nx0Ppu5n5rHq",
        "outputId": "c107b0ee-8a30-4336-ad13-bf141493ef07"
      },
      "execution_count": 28,
      "outputs": [
        {
          "output_type": "execute_result",
          "data": {
            "text/plain": [
              "['good', 'see', 'you', 'again']"
            ]
          },
          "metadata": {},
          "execution_count": 28
        }
      ]
    },
    {
      "cell_type": "code",
      "source": [
        "for word, pos in pos_tag(word_list):\n",
        "    wn_tag = penn_to_wordnet(pos)\n",
        "    if wn_tag:              # None이 아닌 'n','a','r','v'\n",
        "        synsets = list(sentiwordnet.senti_synsets(word, wn_tag))\n",
        "        synset = synsets[0]\n",
        "        print(synset)"
      ],
      "metadata": {
        "colab": {
          "base_uri": "https://localhost:8080/"
        },
        "id": "mJlgR37s5tfK",
        "outputId": "c4cef8c0-be38-4d6f-9fe3-b218ec905ab2"
      },
      "execution_count": 29,
      "outputs": [
        {
          "output_type": "stream",
          "name": "stdout",
          "text": [
            "<good.a.01: PosScore=0.75 NegScore=0.0>\n",
            "<see.n.01: PosScore=0.0 NegScore=0.0>\n",
            "<again.r.01: PosScore=0.0 NegScore=0.0>\n"
          ]
        }
      ]
    },
    {
      "cell_type": "code",
      "source": [
        "sentiment = 0\n",
        "for word, pos in pos_tag(word_list):\n",
        "    wn_tag = penn_to_wordnet(pos)\n",
        "    if wn_tag:              # None이 아닌 'n','a','r','v'\n",
        "        synsets = list(sentiwordnet.senti_synsets(word, wn_tag))\n",
        "        synset = synsets[0]\n",
        "        sentiment += synset.pos_score() - synset.neg_score()\n",
        "sentiment"
      ],
      "metadata": {
        "colab": {
          "base_uri": "https://localhost:8080/"
        },
        "id": "9LblY_Ez5uKr",
        "outputId": "6eeb1e63-9c99-4c5f-cd77-53b632bd74a7"
      },
      "execution_count": 30,
      "outputs": [
        {
          "output_type": "execute_result",
          "data": {
            "text/plain": [
              "0.75"
            ]
          },
          "metadata": {},
          "execution_count": 30
        }
      ]
    },
    {
      "cell_type": "code",
      "source": [
        "from nltk import WordNetLemmatizer\n",
        "lemmatizer = WordNetLemmatizer()"
      ],
      "metadata": {
        "id": "K8fS93OT5vQx"
      },
      "execution_count": 31,
      "outputs": []
    },
    {
      "cell_type": "code",
      "source": [
        "# 표제어 추출까지 고려\n",
        "sentiment = 0\n",
        "for word, pos in pos_tag(word_list):\n",
        "    wn_tag = penn_to_wordnet(pos)\n",
        "    if wn_tag:              # None이 아닌 'n','a','r','v'\n",
        "        lemma = lemmatizer.lemmatize(word, wn_tag)\n",
        "        synsets = list(sentiwordnet.senti_synsets(lemma, wn_tag))\n",
        "        synset = synsets[0]\n",
        "        sentiment += synset.pos_score() - synset.neg_score()\n",
        "sentiment"
      ],
      "metadata": {
        "colab": {
          "base_uri": "https://localhost:8080/"
        },
        "id": "6ObI1y0m5wJW",
        "outputId": "6eb4cc8e-ee20-455f-a829-714f7c2ae6ff"
      },
      "execution_count": 32,
      "outputs": [
        {
          "output_type": "execute_result",
          "data": {
            "text/plain": [
              "0.75"
            ]
          },
          "metadata": {},
          "execution_count": 32
        }
      ]
    },
    {
      "cell_type": "markdown",
      "source": [
        "- 도큐먼트에서 감성지수를 계산하는 과정 및 함수"
      ],
      "metadata": {
        "id": "pZ5cZohD5yXv"
      }
    },
    {
      "cell_type": "code",
      "source": [
        "from nltk import sent_tokenize\n",
        "document = '''This is a movie made purely to satisfy the fans and there should be no doubt about that. No Way Home, in my opinion, is even better than Homecoming and Far From Home, and pretty much one of the best MCU movies of all time. It's a simple story, but the execution is fantastic. Even the smallest of surprises have a huge impact, and I could feel that in the theatre as I joined several other Spider-Man fans cheer out for both heroes and villains. The action sequences were brilliant; seeing them in 3D is totally worth the price of admission. Every actor delivered a believable, realistic performance, and especially our lead actor Tom Holland. The visual effects too were top notch and the editing was stupendous. Two and a half hours flew by real quick while watching this popcorn action entertainer. It won't be fair to reveal anything, so here I conclude my review, and recommend you to check out this new world of Spidey-ness on the big screen and in 3D. And once you've seen it, please don't spoil it for others, just like you won't want it spoiled for yourself.'''"
      ],
      "metadata": {
        "id": "Sf1g_xLF5xYg"
      },
      "execution_count": 33,
      "outputs": []
    },
    {
      "cell_type": "code",
      "source": [
        "sentiment = 0.0\n",
        "for sentence in sent_tokenize(document):\n",
        "    word_list = [word for word in word_tokenize(sentence) if len(word) > 2]\n",
        "    for word, pos in pos_tag(word_list):\n",
        "        wn_tag = penn_to_wordnet(pos)\n",
        "        if wn_tag:              # None이 아닌 'n','a','r','v'\n",
        "            lemma = lemmatizer.lemmatize(word, wn_tag)\n",
        "            synsets = list(sentiwordnet.senti_synsets(lemma, wn_tag))\n",
        "            if not synsets:\n",
        "                print(word)\n",
        "                continue\n",
        "            synset = synsets[0]\n",
        "            sentiment += synset.pos_score() - synset.neg_score()\n",
        "print('긍정' if sentiment >= 0 else '부정')"
      ],
      "metadata": {
        "colab": {
          "base_uri": "https://localhost:8080/"
        },
        "id": "4VOg77ey54vp",
        "outputId": "7e78482c-4224-4d4c-8c54-0833bc1049fd"
      },
      "execution_count": 34,
      "outputs": [
        {
          "output_type": "stream",
          "name": "stdout",
          "text": [
            "Homecoming\n",
            "From\n",
            "MCU\n",
            "Spider-Man\n",
            "lead\n",
            "popcorn\n",
            "n't\n",
            "anything\n",
            "Spidey-ness\n",
            "'ve\n",
            "n't\n",
            "others\n",
            "n't\n",
            "긍정\n"
          ]
        }
      ]
    },
    {
      "cell_type": "code",
      "source": [
        "def swn_polarity(text):\n",
        "    lemmatizer = WordNetLemmatizer()\n",
        "    sentiment = 0.0\n",
        "    for sentence in sent_tokenize(text):\n",
        "        word_list = [word for word in word_tokenize(sentence) if len(word) > 2]\n",
        "        for word, pos in pos_tag(word_list):\n",
        "            wn_tag = penn_to_wordnet(pos)\n",
        "            if wn_tag:              # None이 아닌 'n','a','r','v'\n",
        "                lemma = lemmatizer.lemmatize(word, wn_tag)\n",
        "                synsets = list(sentiwordnet.senti_synsets(lemma, wn_tag))\n",
        "                if not synsets:\n",
        "                    continue\n",
        "                synset = synsets[0]\n",
        "                sentiment += synset.pos_score() - synset.neg_score()\n",
        "\n",
        "    return 1 if sentiment >= 0 else 0"
      ],
      "metadata": {
        "id": "CejF84JW56iw"
      },
      "execution_count": 35,
      "outputs": []
    },
    {
      "cell_type": "markdown",
      "source": [
        "- IMDB 영화평 감성분석"
      ],
      "metadata": {
        "id": "4KpzmulO58pA"
      }
    },
    {
      "cell_type": "code",
      "source": [
        "df = pd.read_csv('labeledTrainData.tsv', sep='\\t', quoting=3)   # 3: QUOTE_NONE\n",
        "df.head(3)"
      ],
      "metadata": {
        "colab": {
          "base_uri": "https://localhost:8080/",
          "height": 143
        },
        "id": "khNKBCfu570U",
        "outputId": "951168b1-349a-4e92-b4aa-76ac9ff21f15"
      },
      "execution_count": 36,
      "outputs": [
        {
          "output_type": "execute_result",
          "data": {
            "text/plain": [
              "         id  sentiment                                             review\n",
              "0  \"5814_8\"          1  \"With all this stuff going down at the moment ...\n",
              "1  \"2381_9\"          1  \"\\\"The Classic War of the Worlds\\\" by Timothy ...\n",
              "2  \"7759_3\"          0  \"The film starts with a manager (Nicholas Bell..."
            ],
            "text/html": [
              "\n",
              "  <div id=\"df-eb841423-7d2d-408f-b574-56eda751a07b\">\n",
              "    <div class=\"colab-df-container\">\n",
              "      <div>\n",
              "<style scoped>\n",
              "    .dataframe tbody tr th:only-of-type {\n",
              "        vertical-align: middle;\n",
              "    }\n",
              "\n",
              "    .dataframe tbody tr th {\n",
              "        vertical-align: top;\n",
              "    }\n",
              "\n",
              "    .dataframe thead th {\n",
              "        text-align: right;\n",
              "    }\n",
              "</style>\n",
              "<table border=\"1\" class=\"dataframe\">\n",
              "  <thead>\n",
              "    <tr style=\"text-align: right;\">\n",
              "      <th></th>\n",
              "      <th>id</th>\n",
              "      <th>sentiment</th>\n",
              "      <th>review</th>\n",
              "    </tr>\n",
              "  </thead>\n",
              "  <tbody>\n",
              "    <tr>\n",
              "      <th>0</th>\n",
              "      <td>\"5814_8\"</td>\n",
              "      <td>1</td>\n",
              "      <td>\"With all this stuff going down at the moment ...</td>\n",
              "    </tr>\n",
              "    <tr>\n",
              "      <th>1</th>\n",
              "      <td>\"2381_9\"</td>\n",
              "      <td>1</td>\n",
              "      <td>\"\\\"The Classic War of the Worlds\\\" by Timothy ...</td>\n",
              "    </tr>\n",
              "    <tr>\n",
              "      <th>2</th>\n",
              "      <td>\"7759_3\"</td>\n",
              "      <td>0</td>\n",
              "      <td>\"The film starts with a manager (Nicholas Bell...</td>\n",
              "    </tr>\n",
              "  </tbody>\n",
              "</table>\n",
              "</div>\n",
              "      <button class=\"colab-df-convert\" onclick=\"convertToInteractive('df-eb841423-7d2d-408f-b574-56eda751a07b')\"\n",
              "              title=\"Convert this dataframe to an interactive table.\"\n",
              "              style=\"display:none;\">\n",
              "        \n",
              "  <svg xmlns=\"http://www.w3.org/2000/svg\" height=\"24px\"viewBox=\"0 0 24 24\"\n",
              "       width=\"24px\">\n",
              "    <path d=\"M0 0h24v24H0V0z\" fill=\"none\"/>\n",
              "    <path d=\"M18.56 5.44l.94 2.06.94-2.06 2.06-.94-2.06-.94-.94-2.06-.94 2.06-2.06.94zm-11 1L8.5 8.5l.94-2.06 2.06-.94-2.06-.94L8.5 2.5l-.94 2.06-2.06.94zm10 10l.94 2.06.94-2.06 2.06-.94-2.06-.94-.94-2.06-.94 2.06-2.06.94z\"/><path d=\"M17.41 7.96l-1.37-1.37c-.4-.4-.92-.59-1.43-.59-.52 0-1.04.2-1.43.59L10.3 9.45l-7.72 7.72c-.78.78-.78 2.05 0 2.83L4 21.41c.39.39.9.59 1.41.59.51 0 1.02-.2 1.41-.59l7.78-7.78 2.81-2.81c.8-.78.8-2.07 0-2.86zM5.41 20L4 18.59l7.72-7.72 1.47 1.35L5.41 20z\"/>\n",
              "  </svg>\n",
              "      </button>\n",
              "      \n",
              "  <style>\n",
              "    .colab-df-container {\n",
              "      display:flex;\n",
              "      flex-wrap:wrap;\n",
              "      gap: 12px;\n",
              "    }\n",
              "\n",
              "    .colab-df-convert {\n",
              "      background-color: #E8F0FE;\n",
              "      border: none;\n",
              "      border-radius: 50%;\n",
              "      cursor: pointer;\n",
              "      display: none;\n",
              "      fill: #1967D2;\n",
              "      height: 32px;\n",
              "      padding: 0 0 0 0;\n",
              "      width: 32px;\n",
              "    }\n",
              "\n",
              "    .colab-df-convert:hover {\n",
              "      background-color: #E2EBFA;\n",
              "      box-shadow: 0px 1px 2px rgba(60, 64, 67, 0.3), 0px 1px 3px 1px rgba(60, 64, 67, 0.15);\n",
              "      fill: #174EA6;\n",
              "    }\n",
              "\n",
              "    [theme=dark] .colab-df-convert {\n",
              "      background-color: #3B4455;\n",
              "      fill: #D2E3FC;\n",
              "    }\n",
              "\n",
              "    [theme=dark] .colab-df-convert:hover {\n",
              "      background-color: #434B5C;\n",
              "      box-shadow: 0px 1px 3px 1px rgba(0, 0, 0, 0.15);\n",
              "      filter: drop-shadow(0px 1px 2px rgba(0, 0, 0, 0.3));\n",
              "      fill: #FFFFFF;\n",
              "    }\n",
              "  </style>\n",
              "\n",
              "      <script>\n",
              "        const buttonEl =\n",
              "          document.querySelector('#df-eb841423-7d2d-408f-b574-56eda751a07b button.colab-df-convert');\n",
              "        buttonEl.style.display =\n",
              "          google.colab.kernel.accessAllowed ? 'block' : 'none';\n",
              "\n",
              "        async function convertToInteractive(key) {\n",
              "          const element = document.querySelector('#df-eb841423-7d2d-408f-b574-56eda751a07b');\n",
              "          const dataTable =\n",
              "            await google.colab.kernel.invokeFunction('convertToInteractive',\n",
              "                                                     [key], {});\n",
              "          if (!dataTable) return;\n",
              "\n",
              "          const docLinkHtml = 'Like what you see? Visit the ' +\n",
              "            '<a target=\"_blank\" href=https://colab.research.google.com/notebooks/data_table.ipynb>data table notebook</a>'\n",
              "            + ' to learn more about interactive tables.';\n",
              "          element.innerHTML = '';\n",
              "          dataTable['output_type'] = 'display_data';\n",
              "          await google.colab.output.renderOutput(dataTable, element);\n",
              "          const docLink = document.createElement('div');\n",
              "          docLink.innerHTML = docLinkHtml;\n",
              "          element.appendChild(docLink);\n",
              "        }\n",
              "      </script>\n",
              "    </div>\n",
              "  </div>\n",
              "  "
            ]
          },
          "metadata": {},
          "execution_count": 36
        }
      ]
    },
    {
      "cell_type": "code",
      "source": [
        "# <br /> 태그는 공백으로 변환\n",
        "df.review = df.review.str.replace('<br />',' ')"
      ],
      "metadata": {
        "id": "GtCxvz3Q59wG"
      },
      "execution_count": 37,
      "outputs": []
    },
    {
      "cell_type": "code",
      "source": [
        "# 구둣점, 숫자 제거 - 영문자가 아닌 글자는 공백으로 변환\n",
        "df.review = df.review.str.replace('[^A-Za-z]', ' ').str.strip()"
      ],
      "metadata": {
        "id": "sxBv7VWX5-km"
      },
      "execution_count": 38,
      "outputs": []
    },
    {
      "cell_type": "code",
      "source": [
        "df.shape"
      ],
      "metadata": {
        "colab": {
          "base_uri": "https://localhost:8080/"
        },
        "id": "1_pVQAmu5_c9",
        "outputId": "e84c695b-a1dc-4cd4-e10f-ccf2f1916fe2"
      },
      "execution_count": 39,
      "outputs": [
        {
          "output_type": "execute_result",
          "data": {
            "text/plain": [
              "(25000, 3)"
            ]
          },
          "metadata": {},
          "execution_count": 39
        }
      ]
    },
    {
      "cell_type": "code",
      "source": [
        "df = df.head(10000)"
      ],
      "metadata": {
        "id": "WaPVIXlt6AEs"
      },
      "execution_count": 40,
      "outputs": []
    },
    {
      "cell_type": "code",
      "source": [
        "%time df['pred'] = df.review.apply(lambda x: swn_polarity(x))"
      ],
      "metadata": {
        "colab": {
          "base_uri": "https://localhost:8080/"
        },
        "id": "7x7PxbkB6Ark",
        "outputId": "120e5ae3-f19d-4e9c-b9af-4473182d43a8"
      },
      "execution_count": 41,
      "outputs": [
        {
          "output_type": "stream",
          "name": "stdout",
          "text": [
            "CPU times: user 3min 19s, sys: 1.18 s, total: 3min 20s\n",
            "Wall time: 3min 29s\n"
          ]
        }
      ]
    },
    {
      "cell_type": "code",
      "source": [
        "# 정확도 계산\n",
        "from sklearn.metrics import accuracy_score\n",
        "accuracy_score(df.sentiment, df.pred)"
      ],
      "metadata": {
        "colab": {
          "base_uri": "https://localhost:8080/"
        },
        "id": "speqY9km6BoQ",
        "outputId": "140764db-e8da-4054-b690-f03be8efd8f3"
      },
      "execution_count": 42,
      "outputs": [
        {
          "output_type": "execute_result",
          "data": {
            "text/plain": [
              "0.6309"
            ]
          },
          "metadata": {},
          "execution_count": 42
        }
      ]
    },
    {
      "cell_type": "code",
      "source": [
        "def swn_polarity(text):\n",
        "    # 감성 지수 초기화 \n",
        "    sentiment = 0.0\n",
        "    tokens_count = 0\n",
        "    \n",
        "    lemmatizer = WordNetLemmatizer()\n",
        "    # 분해된 문장별로 단어 토큰 -> 품사 태깅 후에 SentiSynset 생성 -> 감성 지수 합산 \n",
        "    for raw_sentence in sent_tokenize(text):\n",
        "        # NTLK 기반의 품사 태깅 문장 추출  \n",
        "        word_list = [word for word in word_tokenize(raw_sentence) if len(word) > 2]\n",
        "        tagged_sentence = pos_tag(word_list)\n",
        "        for word, tag in tagged_sentence:\n",
        "            # WordNet 기반 품사 태깅과 어근 추출\n",
        "            wn_tag = penn_to_wordnet(tag)\n",
        "            if wn_tag not in (wordnet.NOUN, wordnet.ADJ, wordnet.ADV, wordnet.VERB):\n",
        "                continue                   \n",
        "            lemma = lemmatizer.lemmatize(word, pos=wn_tag)\n",
        "            if not lemma:\n",
        "                continue\n",
        "            # 어근을 추출한 단어와 WordNet 기반 품사 태깅을 입력해 Synset 객체를 생성. \n",
        "            synsets = wordnet.synsets(lemma, pos=wn_tag)\n",
        "            if not synsets:\n",
        "                continue\n",
        "            # sentiwordnet의 감성 단어 분석으로 감성 synset 추출\n",
        "            # 모든 단어에 대해 긍정 감성 지수는 +로 부정 감성 지수는 -로 합산해 감성 지수 계산. \n",
        "            synset = synsets[0]\n",
        "            swn_synset = sentiwordnet.senti_synset(synset.name())\n",
        "            sentiment += swn_synset.pos_score() - swn_synset.neg_score()           \n",
        "            tokens_count += 1\n",
        "    \n",
        "    if not tokens_count:\n",
        "        return 0\n",
        "    \n",
        "    # 총 score가 0 이상일 경우 긍정(Positive) 1, 그렇지 않을 경우 부정(Negative) 0 반환\n",
        "    return 1 if sentiment >= 0 else 0"
      ],
      "metadata": {
        "id": "HEJVN1sh6CZY"
      },
      "execution_count": 43,
      "outputs": []
    },
    {
      "cell_type": "markdown",
      "source": [
        "## VADER Lexicon을 이용한 감성 분석"
      ],
      "metadata": {
        "id": "G4Z5jEWQ6ElE"
      }
    },
    {
      "cell_type": "code",
      "source": [
        "nltk.download('vader_lexicon')"
      ],
      "metadata": {
        "colab": {
          "base_uri": "https://localhost:8080/"
        },
        "id": "qfnVZthA6D6L",
        "outputId": "52d130b9-ef12-4b7a-cc7b-c3cdd82b7da0"
      },
      "execution_count": 44,
      "outputs": [
        {
          "output_type": "stream",
          "name": "stdout",
          "text": [
            "[nltk_data] Downloading package vader_lexicon to /root/nltk_data...\n"
          ]
        },
        {
          "output_type": "execute_result",
          "data": {
            "text/plain": [
              "True"
            ]
          },
          "metadata": {},
          "execution_count": 44
        }
      ]
    },
    {
      "cell_type": "code",
      "source": [
        "from nltk.sentiment.vader import SentimentIntensityAnalyzer\n",
        "\n",
        "senti_analyzer = SentimentIntensityAnalyzer()\n",
        "senti_analyzer.polarity_scores(df.review[0])"
      ],
      "metadata": {
        "colab": {
          "base_uri": "https://localhost:8080/"
        },
        "id": "SwRpynk76G9H",
        "outputId": "66105c52-010b-4c6f-c337-0e961f40c908"
      },
      "execution_count": 45,
      "outputs": [
        {
          "output_type": "execute_result",
          "data": {
            "text/plain": [
              "{'compound': -0.7943, 'neg': 0.13, 'neu': 0.743, 'pos': 0.127}"
            ]
          },
          "metadata": {},
          "execution_count": 45
        }
      ]
    },
    {
      "cell_type": "code",
      "source": [
        "def vader_polarity(document, threshold=0.1):\n",
        "    score = senti_analyzer.polarity_scores(document)\n",
        "    return 1 if score['compound'] >= threshold else 0"
      ],
      "metadata": {
        "id": "rgncNNAk6Huo"
      },
      "execution_count": 46,
      "outputs": []
    },
    {
      "cell_type": "code",
      "source": [
        "%time df['vader'] = df.review.apply(lambda x: vader_polarity(x, 0.1))"
      ],
      "metadata": {
        "colab": {
          "base_uri": "https://localhost:8080/"
        },
        "id": "myttpoaq6IZo",
        "outputId": "b92b1861-55e2-4436-8593-dddb6764cce7"
      },
      "execution_count": 47,
      "outputs": [
        {
          "output_type": "stream",
          "name": "stdout",
          "text": [
            "CPU times: user 30 s, sys: 150 ms, total: 30.2 s\n",
            "Wall time: 31.2 s\n"
          ]
        }
      ]
    },
    {
      "cell_type": "code",
      "source": [
        "accuracy_score(df.sentiment, df.vader)"
      ],
      "metadata": {
        "colab": {
          "base_uri": "https://localhost:8080/"
        },
        "id": "gBQCrPJV6JGu",
        "outputId": "1d516ec0-9c3a-49be-ba0e-f513fca77b85"
      },
      "execution_count": 48,
      "outputs": [
        {
          "output_type": "execute_result",
          "data": {
            "text/plain": [
              "0.6997"
            ]
          },
          "metadata": {},
          "execution_count": 48
        }
      ]
    },
    {
      "cell_type": "code",
      "source": [
        ""
      ],
      "metadata": {
        "id": "KM4BVtWp6J2d"
      },
      "execution_count": null,
      "outputs": []
    }
  ]
}