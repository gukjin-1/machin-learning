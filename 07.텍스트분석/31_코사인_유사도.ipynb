{
  "nbformat": 4,
  "nbformat_minor": 0,
  "metadata": {
    "colab": {
      "name": "31_코사인_유사도.ipynb",
      "provenance": [],
      "collapsed_sections": []
    },
    "kernelspec": {
      "name": "python3",
      "display_name": "Python 3"
    },
    "language_info": {
      "name": "python"
    }
  },
  "cells": [
    {
      "cell_type": "markdown",
      "source": [
        "# 문서 유사도 - 코사인 유사도"
      ],
      "metadata": {
        "id": "RvsNu0ya7Av8"
      }
    },
    {
      "cell_type": "code",
      "execution_count": 1,
      "metadata": {
        "id": "A7Wcoodj69N-"
      },
      "outputs": [],
      "source": [
        "import numpy as np\n",
        "import matplotlib.pyplot as plt"
      ]
    },
    {
      "cell_type": "code",
      "source": [
        "xs = np.linspace(0, 2*np.pi, 200)\n",
        "cosx = np.cos(xs)\n",
        "sinx = np.sin(xs)\n",
        "\n",
        "plt.plot(xs, cosx, label='Cosine')\n",
        "plt.plot(xs, sinx, label='Sine')\n",
        "plt.xticks([0,np.pi/2,np.pi, 3*np.pi/2, 2*np.pi])\n",
        "plt.yticks([-1,0,1])\n",
        "plt.grid(), plt.legend()\n",
        "plt.show()"
      ],
      "metadata": {
        "colab": {
          "base_uri": "https://localhost:8080/",
          "height": 265
        },
        "id": "x9GZBwWT8403",
        "outputId": "abeabbce-b043-441b-b021-68b3ffe7ed96"
      },
      "execution_count": 3,
      "outputs": [
        {
          "output_type": "display_data",
          "data": {
            "text/plain": [
              "<Figure size 432x288 with 1 Axes>"
            ],
            "image/png": "[encoded data removed]"
          },
          "metadata": {
            "needs_background": "light"
          }
        }
      ]
    },
    {
      "cell_type": "code",
      "source": [
        "v1, v2, v3 = np.array([1,1,0]), np.array([2,1,0]), np.array([0,0,1])\n",
        "v1_norm = np.sqrt(np.sum(np.square(v1)))\n",
        "v2_norm = np.sqrt(np.sum(np.square(v2)))\n",
        "v3_norm = np.sqrt(np.sum(np.square(v3)))\n",
        "v1_norm, v2_norm, v3_norm"
      ],
      "metadata": {
        "colab": {
          "base_uri": "https://localhost:8080/"
        },
        "id": "AbNXo0e59ZzM",
        "outputId": "8d64dbde-c9a5-47d9-ddec-44870de942a2"
      },
      "execution_count": 4,
      "outputs": [
        {
          "output_type": "execute_result",
          "data": {
            "text/plain": [
              "(1.4142135623730951, 2.23606797749979, 1.0)"
            ]
          },
          "metadata": {},
          "execution_count": 4
        }
      ]
    },
    {
      "cell_type": "code",
      "source": [
        "# v1과 v2의 유사도, v1과 v3의 유사도\n",
        "cos12 = np.dot(v1, v2) / (v1_norm * v2_norm)\n",
        "cos13 = np.dot(v1,v3) / (v1_norm* v3_norm)\n",
        "cos12, cos13"
      ],
      "metadata": {
        "colab": {
          "base_uri": "https://localhost:8080/"
        },
        "id": "BF78VGGy-ecT",
        "outputId": "09d55152-7a6e-4970-c404-62836dbe2521"
      },
      "execution_count": 6,
      "outputs": [
        {
          "output_type": "execute_result",
          "data": {
            "text/plain": [
              "(0.9486832980505138, 0.0)"
            ]
          },
          "metadata": {},
          "execution_count": 6
        }
      ]
    },
    {
      "cell_type": "code",
      "source": [
        "def cos_similarity(v1,v2):\n",
        "  v1_norm = np.sqrt(np.sum(np.square(v1)))\n",
        "  v2_norm = np.sqrt(np.sum(np.square(v2)))\n",
        "  return np.dot(v1, v2) / (v1_norm * v2_norm)\n"
      ],
      "metadata": {
        "id": "mrCCnjAT_DO8"
      },
      "execution_count": 7,
      "outputs": []
    },
    {
      "cell_type": "markdown",
      "source": [
        "- 문장의 코사인 유사도"
      ],
      "metadata": {
        "id": "LXAHwaI5_kYy"
      }
    },
    {
      "cell_type": "code",
      "source": [
        "doc_list = ['if you take the blue pill, the story ends' ,\n",
        "            'if you take the red pill, you stay in Wonderland',\n",
        "            'if you take the red pill, I show you how deep the rabbit hole goes']"
      ],
      "metadata": {
        "id": "CIFPPxI3_akb"
      },
      "execution_count": 8,
      "outputs": []
    },
    {
      "cell_type": "code",
      "source": [
        "from sklearn.feature_extraction.text import CountVectorizer, TfidfVectorizer\n",
        "cvect = CountVectorizer(stop_words = 'english')\n",
        "doc_cv = cvect.fit_transform(doc_list)\n",
        "doc_cv.toarray()"
      ],
      "metadata": {
        "colab": {
          "base_uri": "https://localhost:8080/"
        },
        "id": "Ao-JLw1I_uwI",
        "outputId": "e4ffb59e-d1fa-45ef-adea-74758af9e40c"
      },
      "execution_count": 9,
      "outputs": [
        {
          "output_type": "execute_result",
          "data": {
            "text/plain": [
              "array([[1, 0, 1, 0, 0, 1, 0, 0, 0, 1, 0],\n",
              "       [0, 0, 0, 0, 0, 1, 0, 1, 1, 0, 1],\n",
              "       [0, 1, 0, 1, 1, 1, 1, 1, 0, 0, 0]])"
            ]
          },
          "metadata": {},
          "execution_count": 9
        }
      ]
    },
    {
      "cell_type": "code",
      "source": [
        "d1,d2,d3 = doc_cv.toarray()\n",
        "d1"
      ],
      "metadata": {
        "colab": {
          "base_uri": "https://localhost:8080/"
        },
        "id": "mDjxqJckAXm8",
        "outputId": "00f34e65-b963-4a47-eeb9-1611604a86b0"
      },
      "execution_count": 10,
      "outputs": [
        {
          "output_type": "execute_result",
          "data": {
            "text/plain": [
              "array([1, 0, 1, 0, 0, 1, 0, 0, 0, 1, 0])"
            ]
          },
          "metadata": {},
          "execution_count": 10
        }
      ]
    },
    {
      "cell_type": "code",
      "source": [
        "print(f'문장1 vs 문장2: {cos_similarity(d1,d2):.4f}')\n",
        "print(f'문장1 vs 문장3: {cos_similarity(d1,d3):.4f}')\n",
        "print(f'문장2 vs 문장3: {cos_similarity(d2,d3):.4f}')"
      ],
      "metadata": {
        "colab": {
          "base_uri": "https://localhost:8080/"
        },
        "id": "Um9BQolxA3DK",
        "outputId": "bb90765d-dd94-4d63-bee5-d49a70479226"
      },
      "execution_count": 11,
      "outputs": [
        {
          "output_type": "stream",
          "name": "stdout",
          "text": [
            "문장1 vs 문장2: 0.2500\n",
            "문장1 vs 문장3: 0.2041\n",
            "문장2 vs 문장3: 0.4082\n"
          ]
        }
      ]
    },
    {
      "cell_type": "code",
      "source": [
        "tvect = TfidfVectorizer()\n",
        "doc_tv = tvect.fit_transform(doc_list)\n",
        "doc_tv.toarray()"
      ],
      "metadata": {
        "colab": {
          "base_uri": "https://localhost:8080/"
        },
        "id": "W0ViK_OoDrx5",
        "outputId": "3ef90cde-0b42-4f83-aa71-d0c71196d36f"
      },
      "execution_count": 12,
      "outputs": [
        {
          "output_type": "execute_result",
          "data": {
            "text/plain": [
              "array([[1, 0, 1, 0, 0, 1, 0, 0, 0, 1, 0],\n",
              "       [0, 0, 0, 0, 0, 1, 0, 1, 1, 0, 1],\n",
              "       [0, 1, 0, 1, 1, 1, 1, 1, 0, 0, 0]])"
            ]
          },
          "metadata": {},
          "execution_count": 12
        }
      ]
    },
    {
      "cell_type": "code",
      "source": [
        "d1,d2,d3 = doc_tv.toarray()\n",
        "print(f'문장1 vs 문장2: {cos_similarity(d1,d2):.4f}')\n",
        "print(f'문장1 vs 문장3: {cos_similarity(d1,d3):.4f}')\n",
        "print(f'문장2 vs 문장3: {cos_similarity(d2,d3):.4f}')"
      ],
      "metadata": {
        "colab": {
          "base_uri": "https://localhost:8080/"
        },
        "id": "AoTJhWEbEPfW",
        "outputId": "3d1c0a7f-00b1-4e9d-8b66-3d3709802c15"
      },
      "execution_count": 14,
      "outputs": [
        {
          "output_type": "stream",
          "name": "stdout",
          "text": [
            "문장1 vs 문장2: 0.4021\n",
            "문장1 vs 문장3: 0.4043\n",
            "문장2 vs 문장3: 0.4565\n"
          ]
        }
      ]
    },
    {
      "cell_type": "markdown",
      "source": [
        "- Scikit-learn 코사인 유사도"
      ],
      "metadata": {
        "id": "u-YW2f5QEYfD"
      }
    },
    {
      "cell_type": "code",
      "source": [
        "from sklearn.metrics.pairwise import cosine_similarity"
      ],
      "metadata": {
        "id": "vq8QcJH9ER5k"
      },
      "execution_count": 15,
      "outputs": []
    },
    {
      "cell_type": "code",
      "source": [
        "cosine_similarity([d1],[d2])"
      ],
      "metadata": {
        "colab": {
          "base_uri": "https://localhost:8080/"
        },
        "id": "kJGSbHNNEj45",
        "outputId": "86bd82a2-2418-45dc-f405-fba2a95d1575"
      },
      "execution_count": 16,
      "outputs": [
        {
          "output_type": "execute_result",
          "data": {
            "text/plain": [
              "array([[0.40207758]])"
            ]
          },
          "metadata": {},
          "execution_count": 16
        }
      ]
    },
    {
      "cell_type": "code",
      "source": [
        "cosine_similarity(doc_cv)"
      ],
      "metadata": {
        "colab": {
          "base_uri": "https://localhost:8080/"
        },
        "id": "2SB_ALroEnDD",
        "outputId": "b24e5513-ca86-49dc-bd34-4da92f8a5161"
      },
      "execution_count": 17,
      "outputs": [
        {
          "output_type": "execute_result",
          "data": {
            "text/plain": [
              "array([[1.        , 0.25      , 0.20412415],\n",
              "       [0.25      , 1.        , 0.40824829],\n",
              "       [0.20412415, 0.40824829, 1.        ]])"
            ]
          },
          "metadata": {},
          "execution_count": 17
        }
      ]
    },
    {
      "cell_type": "code",
      "source": [
        "cosine_similarity(doc_tv,doc_tv)"
      ],
      "metadata": {
        "colab": {
          "base_uri": "https://localhost:8080/"
        },
        "id": "75mnHfwAEvqi",
        "outputId": "ada7db16-4cbf-4ca6-914f-409cfc005ab2"
      },
      "execution_count": 18,
      "outputs": [
        {
          "output_type": "execute_result",
          "data": {
            "text/plain": [
              "array([[1.        , 0.40207758, 0.40425045],\n",
              "       [0.40207758, 1.        , 0.45647296],\n",
              "       [0.40425045, 0.45647296, 1.        ]])"
            ]
          },
          "metadata": {},
          "execution_count": 18
        }
      ]
    },
    {
      "cell_type": "code",
      "source": [
        ""
      ],
      "metadata": {
        "id": "0ZSDTeuwEzXf"
      },
      "execution_count": null,
      "outputs": []
    }
  ]
}